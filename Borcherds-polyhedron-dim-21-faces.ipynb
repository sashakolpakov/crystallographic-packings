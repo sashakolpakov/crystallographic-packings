{
 "cells": [
  {
   "cell_type": "code",
   "execution_count": 1,
   "metadata": {},
   "outputs": [],
   "source": [
    "# ----------------------------------------------------- #\n",
    "# ------- BEGIN: MAIN FUNCTIONS AND DEFINITIONS ------- #\n",
    "# ----------------------------------------------------- #"
   ]
  },
  {
   "cell_type": "code",
   "execution_count": 2,
   "metadata": {},
   "outputs": [],
   "source": [
    "#\n",
    "# Label of an edge joining roots u and v\n",
    "#\n",
    "def label(u,v):\n",
    "    return bL(u,v)**2/fL(u)/fL(v); # value of cos^2 or cosh^2 "
   ]
  },
  {
   "cell_type": "code",
   "execution_count": 3,
   "metadata": {},
   "outputs": [],
   "source": [
    "#\n",
    "# Constructing a diagram using outer normals of a polyhedron\n",
    "# Labels are given by squares of inner products of normals\n",
    "#\n",
    "def diagram(normals):\n",
    "    g = Graph();\n",
    "    l = len(normals);\n",
    "    for i in range(l):\n",
    "        for j in range(l):\n",
    "            if i<j:\n",
    "                w = label(normals[i],normals[j]);\n",
    "                g.add_vertices([i,j]);\n",
    "                if w!=0:\n",
    "                    g.add_edge(i,j,w);\n",
    "    return g;"
   ]
  },
  {
   "cell_type": "code",
   "execution_count": 4,
   "metadata": {},
   "outputs": [],
   "source": [
    "#\n",
    "# Is given polyhedron of Coxeter type ? Needs diagram with weighted edges\n",
    "#\n",
    "def is_Coxeter(diag):\n",
    "    for e in diag.edges():\n",
    "        weight = e[2];\n",
    "        if weight < 1:\n",
    "            k = round(pi/arccos(sqrt(weight)));\n",
    "            if not(minpoly(weight)==minpoly(cos(pi/k)**2)):\n",
    "                return False;\n",
    "    return True;"
   ]
  },
  {
   "cell_type": "code",
   "execution_count": 5,
   "metadata": {},
   "outputs": [],
   "source": [
    "#\n",
    "# Coxeter diagram using outer normals of a polyhedron\n",
    "# Labels are integers:\n",
    "# n\\geq 3 : angle of \\pi/n\n",
    "# n = 0 : angle of 0, label \\infinity, or bold edge\n",
    "# n = 1 : common perpendicular, dotted edge\n",
    "#\n",
    "def Coxeter_diagram(normals):\n",
    "    g = Graph();\n",
    "    l = len(normals);\n",
    "    for i in range(l):\n",
    "        for j in range(l):\n",
    "            if (i<j):\n",
    "                u = normals[i];\n",
    "                v = normals[j];\n",
    "                weight = bL(u,v)**2/fL(u)/fL(v);\n",
    "                if weight<1:\n",
    "                    k = round(pi/arccos(sqrt(weight)));\n",
    "                    g.add_vertex(i);\n",
    "                    g.add_vertex(j);\n",
    "                    if k>2:\n",
    "                        g.add_edge(i,j,k);\n",
    "                else:\n",
    "                    if weight==1:\n",
    "                        g.add_edge(i,j,0);\n",
    "                    else:\n",
    "                        g.add_edge(i,j,1);\n",
    "    return g;"
   ]
  },
  {
   "cell_type": "code",
   "execution_count": 6,
   "metadata": {},
   "outputs": [],
   "source": [
    "#\n",
    "# Projecting vector w onto __orthogonal__complement__ of W\n",
    "#\n",
    "def proj(w, W): \n",
    "    ww = sum([bL(vv,w)/fL(vv)*vv for vv in W]);\n",
    "    return w - ww;"
   ]
  },
  {
   "cell_type": "code",
   "execution_count": 7,
   "metadata": {},
   "outputs": [],
   "source": [
    "#\n",
    "# Producing the list of facets of a polyhedron given as \n",
    "# (set of normals of sub-face, its diagram, symmetry group,\n",
    "# index of normal vector of super-face, angles between sub-face and its neighbours).\n",
    "#\n",
    "# Here, the first 3 entries represent the most important data, while the last two \n",
    "# are useful for tracing adjacency and play the role of auxiliary data. \n",
    "#\n",
    "# All angles between the sub-face and its neighbours are given as k, for an angle of \\pi/k.  \n",
    "#\n",
    "# Each isometry type of a facet happens only __once__\n",
    "#\n",
    "def facets(normals, diag, aut):\n",
    "    f_list = [];\n",
    "    f = list(map(lambda x: sorted(x)[0], aut.orbits()));\n",
    "    for i in f:\n",
    "        f_poly = [proj(w, [normals[i]]) for w in normals if bL(w,normals[i])**2/fL(w)/fL(normals[i])<1];\n",
    "        d_poly = diagram(f_poly);\n",
    "        a_poly = d_poly.automorphism_group(edge_labels=True);\n",
    "        flag = True;\n",
    "        count = 0;\n",
    "        while flag and (count<len(f_list)):            \n",
    "            flag = flag and not(d_poly.is_isomorphic(f_list[count][1]));\n",
    "            count += 1;\n",
    "        if flag:\n",
    "            f_list += [(f_poly, d_poly, a_poly)];\n",
    "    return f_list;"
   ]
  },
  {
   "cell_type": "code",
   "execution_count": 8,
   "metadata": {},
   "outputs": [],
   "source": [
    "#\n",
    "# Augmenting the facet tree\n",
    "# IMPORTANT: vertices are enumerated in no particular order\n",
    "#\n",
    "def augment_facet_tree(T):\n",
    "    max_dist = max([T.distance(0,t) for t in T.vertices()]);\n",
    "    for t in T.vertices():\n",
    "        if T.distance(0,t)==max_dist:\n",
    "            m = max(T.vertices());\n",
    "            s = facets(*T.get_vertex(t));\n",
    "            for i in range(len(s)):\n",
    "                T.add_edge(t, m+i+1);\n",
    "                T.set_vertex(m+i+1, s[i]);"
   ]
  },
  {
   "cell_type": "code",
   "execution_count": 9,
   "metadata": {},
   "outputs": [],
   "source": [
    "#\n",
    "# Pruning the facet tree: removing repeated isometry types of non-Coxeter descendants\n",
    "# IMPORTANT: vertices are enumerated in no particular order\n",
    "#\n",
    "def prune_facet_tree(T):\n",
    "    leaves = [t for t in T.vertices() if T.degree(t)<2 and t!=0];\n",
    "    pruned = [];\n",
    "    for l in leaves:\n",
    "        if all([not T.get_vertex(l)[1].is_isomorphic(T.get_vertex(ll)[1], edge_labels=True) for ll in pruned]):\n",
    "            pruned += [l];\n",
    "    for l in leaves:\n",
    "        if not(l in pruned):\n",
    "            T.delete_vertex(l);"
   ]
  },
  {
   "cell_type": "code",
   "execution_count": 10,
   "metadata": {},
   "outputs": [],
   "source": [
    "#\n",
    "# Checking if a facets is orthogonal to its neighbours: needs Coxeter diagram\n",
    "#\n",
    "def is_orthogonal(diag, v):\n",
    "    weights = [e[2] for e in diag.edges_incident([v], labels=True)];\n",
    "    return all([(w==0)or(w==1) for w in weights]);\n",
    "#\n",
    "# Checking if a polyhedron defined by a set of normals has an orthogonal facet\n",
    "#\n",
    "def has_orthogonal_facet(diag):\n",
    "    for v in diag.vertices():\n",
    "        if is_orthogonal(diag, v):\n",
    "            return True;\n",
    "    return False;\n",
    "#\n",
    "# Checking if a given facet has angles pi/2 or pi/4 with the neighbouring facets \n",
    "# and that the neighbouring facets with angles pi/4 have all neighbours with angles\n",
    "# pi/(2^m), which leaves us in this particular case with pi/2 and pi/4 only \n",
    "#\n",
    "def is_even(diag, v):\n",
    "    weights = [e[2] for e in diag.edges_incident([v], labels=True)];\n",
    "    flag = False;\n",
    "    check = [];\n",
    "    if all([(w==0)or(w==1)or(w==4) for w in weights]):\n",
    "        for u in diag.vertex_boundary([v]):\n",
    "            if diag.edge_label(u,v)==4:\n",
    "                check += [u];\n",
    "        flag = True;\n",
    "        for u in check:\n",
    "            check_weights = [e[2] for e in diag.edges_incident([u], labels=True)]\n",
    "            flag = flag and all([(w==0)or(w==1)or(w==4) for w in check_weights]);\n",
    "            if not(flag):\n",
    "                return flag;\n",
    "    return flag;\n",
    "#\n",
    "# Checking if a polyhedron defined by a set of normals has an orthogonal facet (return 1)\n",
    "# or an even facet (return 2); otherwise it returns 0\n",
    "#\n",
    "def has_good_facet(diag):\n",
    "    for v in diag.vertices():\n",
    "        if is_orthogonal(diag, v):\n",
    "            return 1;\n",
    "        if is_even(diag, v):\n",
    "            return 2;\n",
    "    return 0;"
   ]
  },
  {
   "cell_type": "code",
   "execution_count": 11,
   "metadata": {},
   "outputs": [],
   "source": [
    "#\n",
    "# Facet info: whether the new faces added to the facet tree are Coxeter\n",
    "# have an orthogonal or a \"good\" facet or, otherwise, are \"bad\" \n",
    "#\n",
    "def facet_info(T):\n",
    "    max_dist = max([T.distance(0,t) for t in T.vertices()]);\n",
    "    print(\"Codimension\", max_dist, \"Coxeter faces.\");\n",
    "    for t in T.vertices():\n",
    "        if T.distance(0,t)==max_dist:\n",
    "            p = T.get_vertex(t);\n",
    "            if is_Coxeter(p[1]):\n",
    "                d = Coxeter_diagram(p[0]);\n",
    "                flag = has_good_facet(d);\n",
    "                assert (flag in [0,1,2]);\n",
    "                if (flag==1):\n",
    "                    print(\"Face\", t, \"is Coxeter and has an orthogonal facet\");\n",
    "                    save(p, 'codim'+str(max_dist)+'face'+str(t)+'ortho');\n",
    "                if (flag==2):\n",
    "                    print(\"Face\", t, \"is Coxeter and has a good facet\");\n",
    "                    save(p, 'codim'+str(max_dist)+'face'+str(t)+'even');\n",
    "                if (flag==0):\n",
    "                    print(\"Face\", t, \"is Coxeter, however, bad\");"
   ]
  },
  {
   "cell_type": "code",
   "execution_count": 12,
   "metadata": {},
   "outputs": [],
   "source": [
    "#\n",
    "# Q = the infinite-volume Coxeter 25-dimensional polyhedron associated to Conway's lattice in \n",
    "# [John H. Conway, Journal of Algebra 80, 159-163 (1983)]\n",
    "#\n",
    "# P_21 = finite-volume cusped Borcherds' polyhedron from [R. Borcherds, Journal of Algebra 111, \n",
    "# 133-153 (1987)] that is associated to a D_4 subdiagram of Q \n",
    "#\n",
    "# In order to produce a set of outer normals to the facets of P_21, we use essentially \n",
    "# [Dolgachev -- Kōndo, Int. Math. Res. Not. 1, 1-23 (2003)]\n",
    "#"
   ]
  },
  {
   "cell_type": "code",
   "execution_count": 13,
   "metadata": {},
   "outputs": [],
   "source": [
    "#\n",
    "#\n",
    "# The elements of the Leech lattice necessary for the construction (c.f. [Dolgachev--Kōndo])\n",
    "# these give rise to the outer normals of Conway's infinite polyhedron Q (c.f. [Conway])\n",
    "# and here we use only some 210 of them\n",
    "#\n",
    "#\n",
    "L = [[1, 1, 1, 1, 1, 1, 1, 1, 1, 1, 1, 1, 1, 1, 1, 1, 1, 1, 1, 1, 1, -3, 1, 1],\n",
    "[1, 1, 1, 1, 1, 1, 1, 1, 1, 1, 1, 1, 1, 1, 1, 1, 1, 1, -3, 1, 1, 1, 1, 1],\n",
    "[2, 0, 2, 0, 0, 0, 0, 0, 0, 0, 0, 0, 0, 2, 0, 2, 2, 2, 0, 0, 0, 2, 2, 0],\n",
    "[3, 1, 1, -1, 1, -1, -1, 1, 1, 1, 1, 1, 1, 1, 1, 1, 1, -1, -1, 1, -1, 1, 1, -1],\n",
    "[2, 2, 0, 0, 0, 2, 0, 2, 0, 0, 0, 0, 2, 0, 0, 2, 0, 0, 0, 0, 0, 2, 2, 0],\n",
    "[0, 2, 2, 0, 0, 0, 0, 0, 0, 2, 0, 2, 0, 0, 2, 2, 0, 0, 0, 0, 0, 2, 2, 0],\n",
    "[2, 2, 0, 0, 0, 0, 0, 0, 2, 2, 0, 0, 0, 0, 0, 0, 2, 0, 2, 0, 2, 0, 0, 2],\n",
    "[3, 1, 1, 1, -1, 1, -1, -1, 1, 1, -1, 1, 1, 1, 1, -1, -1, 1, 1, 1, 1, -1, 1, 1],\n",
    "[3, 1, 1, -1, 1, -1, -1, 1, 1, 1, 1, 1, 1, 1, 1, 1, -1, 1, 1, -1, 1, -1, -1, 1],\n",
    "[2, 2, 2, 0, 0, 0, 2, 0, 0, 0, 0, 2, 0, 0, 2, 0, 0, 0, 2, 0, 0, 0, 0, 2],\n",
    "[1, 3, 1, -1, 1, 1, -1, -1, 1, -1, -1, 1, 1, 1, 1, 1, 1, 1, 1, 1, 1, -1, -1, 1],\n",
    "[1, 3, 1, -1, -1, -1, 1, 1, -1, 1, 1, -1, 1, 1, 1, 1, 1, 1, 1, 1, 1, -1, -1, 1],\n",
    "[1, 3, 1, 1, -1, -1, -1, 1, 1, -1, 1, 1, 1, 1, 1, -1, 1, 1, 1, -1, 1, -1, 1, 1],\n",
    "[0, 2, 2, 0, 0, 0, 0, 0, 2, 0, 2, 0, 2, 2, 0, 0, 0, 0, 0, 0, 0, 2, 2, 0],\n",
    "[1, 3, 1, 1, 1, -1, -1, -1, 1, -1, 1, 1, -1, 1, 1, 1, 1, 1, -1, 1, 1, 1, 1, -1],\n",
    "[2, 2, 0, 0, 2, 0, 2, 0, 0, 0, 0, 0, 0, 2, 2, 0, 0, 0, 0, 0, 0, 2, 2, 0],\n",
    "[2, 2, 0, 2, 0, 0, 2, 0, 0, 0, 0, 2, 0, 0, 0, 2, 0, 2, 0, 0, 0, 2, 0, 0],\n",
    "[2, 2, 0, 0, 0, 0, 0, 0, 2, 2, 0, 0, 0, 0, 0, 0, 0, 2, 0, 2, 0, 2, 2, 0],\n",
    "[2, 0, 2, 0, 0, 0, 0, 0, 0, 0, 0, 0, 0, 2, 0, 2, 0, 0, 2, 2, 2, 0, 0, 2],\n",
    "[3, 1, 1, 1, -1, 1, -1, -1, -1, 1, 1, 1, 1, -1, 1, 1, 1, 1, -1, 1, 1, 1, 1, -1],\n",
    "[2, 2, 2, 0, 0, 2, 0, 0, 0, 0, 2, 0, 2, 0, 0, 0, 0, 0, 2, 0, 2, 0, 0, 0],\n",
    "[1, 3, 1, 1, -1, -1, -1, 1, -1, 1, 1, 1, 1, 1, -1, 1, 1, 1, -1, 1, -1, 1, 1, 1],\n",
    "[2, 2, 0, 2, 2, 0, 0, 0, 0, 0, 0, 2, 0, 2, 0, 0, 0, 0, 2, 0, 2, 0, 0, 0],\n",
    "[2, 2, 0, 2, 0, 0, 0, 2, 2, 0, 0, 0, 0, 2, 0, 0, 2, 0, 0, 0, 0, 2, 0, 0],\n",
    "[2, 2, 0, 0, 0, 0, 0, 0, 0, 2, 2, 0, 0, 2, 0, 2, 0, 0, 0, 0, 2, 2, 0, 0],\n",
    "[3, 1, 1, 1, 1, -1, -1, -1, 1, -1, 1, 1, 1, -1, 1, 1, 1, -1, 1, 1, 1, -1, 1, 1],\n",
    "[2, 2, 2, 0, 0, 2, 0, 0, 0, 0, 0, 2, 0, 2, 0, 0, 0, 0, 0, 2, 0, 2, 0, 0],\n",
    "[2, 0, 2, 0, 0, 0, 0, 0, 2, 0, 2, 0, 0, 0, 0, 0, 0, 2, 2, 0, 0, 0, 2, 2],\n",
    "[1, 3, 1, 1, 1, -1, -1, -1, 1, 1, 1, -1, 1, 1, -1, 1, -1, 1, 1, 1, 1, -1, 1, 1],\n",
    "[2, 2, 0, 0, 2, 2, 0, 0, 0, 0, 0, 0, 0, 0, 0, 0, 0, 0, 2, 2, 0, 0, 2, 2],\n",
    "[1, 3, 1, -1, -1, 1, 1, -1, 1, 1, 1, 1, 1, 1, -1, -1, 1, 1, 1, 1, -1, -1, 1, 1],\n",
    "[2, 2, 2, 0, 0, 0, 2, 0, 0, 2, 0, 0, 2, 0, 0, 0, 2, 0, 0, 0, 0, 2, 0, 0],\n",
    "[2, 2, 0, 2, 0, 0, 0, 2, 0, 0, 2, 0, 0, 0, 0, 2, 0, 0, 2, 0, 0, 0, 0, 2],\n",
    "[3, 1, 1, 1, -1, -1, 1, -1, -1, 1, 1, 1, 1, 1, -1, 1, 1, 1, 1, -1, 1, -1, 1, 1],\n",
    "[1, 3, 1, 1, -1, 1, -1, -1, -1, 1, 1, 1, -1, 1, 1, 1, 1, -1, 1, 1, 1, -1, 1, 1],\n",
    "[2, 2, 0, 2, 2, 0, 0, 0, 0, 0, 2, 0, 2, 0, 0, 0, 0, 0, 0, 2, 0, 2, 0, 0],\n",
    "[2, 2, 2, 0, 0, 0, 0, 2, 0, 0, 2, 0, 0, 0, 2, 0, 0, 2, 0, 0, 0, 2, 0, 0],\n",
    "[0, 2, 2, 0, 0, 0, 0, 0, 0, 0, 0, 0, 2, 0, 0, 2, 0, 2, 0, 2, 2, 2, 0, 0],\n",
    "[0, 2, 2, 0, 0, 0, 0, 0, 2, 2, 0, 0, 2, 0, 2, 0, 0, 2, 2, 0, 0, 0, 0, 0],\n",
    "[3, 1, 1, -1, -1, -1, 1, 1, 1, 1, 1, 1, 1, -1, 1, -1, 1, 1, 1, 1, 1, -1, 1, -1],\n",
    "[2, 2, 0, 0, 2, 0, 0, 2, 0, 0, 0, 0, 2, 0, 2, 0, 2, 0, 2, 0, 0, 0, 0, 0],\n",
    "[2, 2, 0, 0, 0, 2, 0, 2, 2, 0, 0, 2, 0, 0, 0, 0, 0, 2, 2, 0, 0, 0, 0, 0],\n",
    "[2, 2, 0, 0, 2, 0, 2, 0, 0, 2, 2, 0, 0, 0, 0, 0, 0, 2, 2, 0, 0, 0, 0, 0],\n",
    "[2, 2, 2, 2, 0, 0, 0, 0, 0, 0, 0, 0, 0, 0, 0, 0, 2, 2, 2, 2, 0, 0, 0, 0],\n",
    "[2, 2, 0, 0, 0, 0, 0, 0, 2, 0, 2, 0, 0, 2, 2, 0, 0, 0, 2, 2, 0, 0, 0, 0],\n",
    "[0, 2, 2, 0, 0, 0, 0, 0, 2, 0, 0, 2, 0, 0, 0, 0, 0, 0, 2, 2, 2, 0, 2, 0],\n",
    "[1, 3, 1, -1, 1, 1, -1, -1, 1, 1, 1, 1, 1, -1, -1, 1, 1, -1, -1, 1, 1, 1, 1, 1],\n",
    "[1, 3, 1, -1, -1, 1, 1, -1, -1, -1, 1, 1, 1, 1, 1, 1, 1, 1, -1, -1, 1, 1, 1, 1],\n",
    "[1, 3, 1, -1, 1, -1, -1, 1, 1, 1, -1, -1, 1, 1, 1, 1, 1, 1, -1, -1, 1, 1, 1, 1],\n",
    "[3, 1, 1, -1, 1, -1, 1, -1, 1, 1, 1, 1, -1, -1, 1, 1, 1, 1, -1, -1, 1, 1, 1, 1],\n",
    "[2, 0, 2, 0, 0, 0, 0, 0, 0, 0, 2, 2, 2, 0, 0, 2, 0, 0, 0, 0, 0, 2, 0, 2],\n",
    "[2, 2, 0, 0, 0, 0, 0, 0, 0, 0, 0, 0, 0, 0, 2, 2, 2, 0, 0, 2, 0, 2, 0, 2],\n",
    "[2, 0, 2, 0, 0, 0, 0, 0, 2, 0, 0, 2, 2, 2, 0, 0, 2, 0, 2, 0, 0, 0, 0, 0],\n",
    "[3, 1, 1, 1, -1, -1, 1, -1, 1, -1, 1, 1, 1, 1, 1, -1, 1, 1, -1, 1, -1, 1, 1, 1],\n",
    "[3, 1, 1, -1, -1, -1, 1, 1, -1, 1, -1, 1, 1, 1, 1, 1, -1, 1, -1, 1, 1, 1, 1, 1],\n",
    "[3, 1, 1, -1, 1, 1, -1, -1, 1, -1, 1, -1, 1, 1, 1, 1, -1, 1, -1, 1, 1, 1, 1, 1],\n",
    "[1, 3, 1, -1, 1, -1, 1, -1, 1, 1, 1, 1, 1, 1, 1, 1, -1, 1, -1, 1, -1, 1, -1, 1],\n",
    "[1, 3, 1, -1, 1, -1, -1, 1, 1, 1, 1, 1, -1, -1, 1, 1, 1, 1, 1, 1, -1, -1, 1, 1],\n",
    "[3, 1, 1, -1, 1, -1, 1, -1, 1, 1, -1, -1, 1, 1, 1, 1, 1, 1, 1, 1, -1, -1, 1, 1],\n",
    "[3, 1, 1, -1, -1, 1, -1, 1, -1, -1, 1, 1, 1, 1, 1, 1, 1, 1, 1, 1, -1, -1, 1, 1],\n",
    "[2, 0, 2, 0, 0, 0, 0, 0, 2, 0, 2, 0, 0, 0, 0, 0, 2, 0, 0, 2, 2, 2, 0, 0],\n",
    "[2, 2, 0, 0, 2, 2, 0, 0, 0, 0, 0, 0, 0, 0, 0, 0, 2, 2, 0, 0, 2, 2, 0, 0],\n",
    "[0, 2, 2, 0, 0, 0, 0, 0, 0, 0, 0, 0, 2, 0, 0, 2, 2, 0, 2, 0, 0, 0, 2, 2],\n",
    "[2, 2, 0, 0, 0, 0, 0, 0, 2, 0, 0, 2, 2, 0, 2, 0, 0, 0, 0, 0, 2, 2, 0, 0],\n",
    "[2, 2, 0, 0, 0, 0, 0, 0, 0, 0, 0, 0, 0, 0, 2, 2, 0, 2, 2, 0, 2, 0, 2, 0],\n",
    "[2, 2, 0, 0, 0, 0, 0, 0, 0, 2, 0, 2, 2, 0, 0, 2, 0, 0, 2, 2, 0, 0, 0, 0],\n",
    "[1, 3, 1, -1, -1, -1, 1, 1, 1, 1, 1, 1, -1, 1, 1, -1, 1, -1, -1, 1, 1, 1, 1, 1],\n",
    "[2, 2, 0, 2, 0, 0, 2, 0, 2, 0, 0, 0, 2, 0, 0, 0, 0, 0, 2, 0, 0, 0, 2, 0],\n",
    "[3, 1, 1, -1, -1, 1, -1, 1, 1, 1, 1, 1, 1, 1, -1, -1, 1, 1, -1, -1, 1, 1, 1, 1],\n",
    "[2, 2, 2, 2, 0, 0, 0, 0, 0, 0, 0, 0, 0, 0, 0, 0, 0, 0, 0, 0, 2, 2, 2, 2],\n",
    "[3, 1, 1, 1, 1, -1, -1, -1, 1, 1, -1, 1, 1, 1, -1, 1, 1, 1, -1, 1, 1, 1, -1, 1],\n",
    "[2, 2, 0, 0, 2, 0, 0, 2, 0, 2, 0, 2, 0, 0, 0, 0, 0, 0, 0, 0, 0, 2, 0, 2],\n",
    "[2, 2, 0, 0, 0, 2, 2, 0, 2, 0, 2, 0, 0, 0, 0, 0, 0, 0, 0, 0, 0, 2, 0, 2],\n",
    "[2, 0, 2, 0, 0, 0, 0, 0, 2, 2, 0, 0, 0, 2, 2, 0, 0, 0, 0, 0, 0, 2, 0, 2],\n",
    "[0, 2, 2, 0, 0, 0, 0, 0, 2, 0, 0, 2, 0, 0, 0, 0, 2, 2, 0, 0, 0, 2, 0, 2],\n",
    "[2, 0, 2, 0, 0, 0, 0, 0, 0, 2, 2, 0, 0, 0, 2, 2, 2, 0, 2, 0, 0, 0, 0, 0],\n",
    "[1, 3, 1, -1, 1, -1, 1, -1, 1, 1, 1, 1, 1, 1, 1, 1, 1, -1, 1, -1, 1, -1, 1, -1],\n",
    "[0, 2, 2, 0, 0, 0, 0, 0, 0, 0, 2, 2, 0, 2, 0, 2, 0, 2, 2, 0, 0, 0, 0, 0],\n",
    "[2, 2, 2, 0, 0, 0, 0, 2, 0, 2, 0, 0, 0, 2, 0, 0, 0, 0, 2, 0, 0, 0, 2, 0],\n",
    "[3, 1, 1, -1, 1, 1, -1, -1, 1, 1, 1, 1, -1, 1, -1, 1, 1, 1, 1, 1, 1, -1, 1, -1],\n",
    "[2, 2, 0, 0, 0, 2, 2, 0, 0, 0, 0, 0, 0, 2, 0, 2, 2, 0, 2, 0, 0, 0, 0, 0],\n",
    "[1, 3, 1, 1, -1, 1, -1, -1, 1, 1, 1, -1, 1, 1, 1, -1, 1, 1, -1, 1, 1, 1, -1, 1],\n",
    "[1, 1, 1, 1, 1, 1, 1, 1, 1, 1, 1, 1, 1, 1, 1, 1, 1, 1, 1, 1, 1, 1, 1, -3],\n",
    "[2, 0, 2, 0, 0, 0, 0, 0, 0, 0, 0, 0, 2, 0, 2, 0, 2, 2, 0, 0, 2, 0, 0, 2],\n",
    "[2, 2, 0, 0, 0, 0, 0, 0, 0, 0, 2, 2, 0, 0, 0, 0, 0, 2, 0, 2, 2, 0, 0, 2],\n",
    "[2, 2, 0, 0, 0, 2, 0, 2, 0, 0, 0, 0, 0, 2, 2, 0, 0, 0, 0, 0, 2, 0, 0, 2],\n",
    "[0, 2, 2, 0, 0, 0, 0, 0, 0, 2, 0, 2, 2, 2, 0, 0, 0, 0, 0, 0, 2, 0, 0, 2],\n",
    "[1, 3, 1, -1, 1, 1, -1, -1, -1, 1, 1, -1, 1, 1, 1, 1, 1, 1, 1, 1, -1, 1, 1, -1],\n",
    "[1, 3, 1, -1, -1, -1, 1, 1, 1, -1, -1, 1, 1, 1, 1, 1, 1, 1, 1, 1, -1, 1, 1, -1],\n",
    "[3, 1, 1, -1, -1, 1, 1, -1, 1, 1, 1, 1, 1, 1, 1, 1, -1, 1, 1, -1, -1, 1, 1, -1],\n",
    "[1, 1, 1, 1, 1, 1, 1, 1, 1, 1, 1, 1, 1, 1, 1, -3, 1, 1, 1, 1, 1, 1, 1, 1],\n",
    "[2, 2, 0, 2, 2, 0, 0, 0, 0, 2, 0, 0, 0, 0, 0, 2, 2, 0, 0, 0, 0, 0, 2, 0],\n",
    "[1, 1, 1, 1, 1, 1, 1, 1, 1, 1, 1, 1, 1, 1, 1, 1, 1, 1, 1, 1, 1, 1, -3, 1],\n",
    "[3, 1, 1, 1, -1, -1, -1, 1, -1, 1, 1, 1, 1, 1, 1, -1, 1, -1, 1, 1, 1, 1, -1, 1],\n",
    "[2, 2, 2, 0, 0, 0, 2, 0, 0, 0, 2, 0, 0, 0, 0, 2, 0, 0, 0, 2, 0, 0, 2, 0],\n",
    "[1, 1, 1, 1, 1, 1, 1, 1, 1, 1, 1, 1, 1, 1, 1, 1, 1, 1, 1, 1, -3, 1, 1, 1],\n",
    "[2, 2, 0, 2, 2, 0, 0, 0, 2, 0, 0, 0, 0, 0, 2, 0, 0, 2, 0, 0, 0, 0, 0, 2],\n",
    "[2, 2, 2, 0, 0, 0, 0, 2, 2, 0, 0, 0, 2, 0, 0, 0, 0, 0, 0, 2, 0, 0, 0, 2],\n",
    "[3, 1, 1, 1, -1, -1, 1, -1, 1, 1, -1, 1, -1, 1, 1, 1, 1, -1, 1, 1, 1, 1, 1, -1],\n",
    "[2, 2, 0, 0, 0, 0, 0, 0, 0, 0, 2, 2, 0, 0, 0, 0, 2, 0, 2, 0, 0, 2, 2, 0],\n",
    "[1, 3, 1, 1, -1, 1, -1, -1, 1, 1, -1, 1, 1, 1, -1, 1, 1, 1, 1, -1, 1, 1, 1, -1],\n",
    "[2, 2, 2, 0, 2, 0, 0, 0, 2, 0, 0, 0, 0, 0, 0, 2, 0, 0, 2, 0, 0, 2, 0, 0],\n",
    "[0, 2, 2, 0, 0, 0, 0, 0, 2, 0, 2, 0, 0, 0, 2, 2, 0, 0, 0, 0, 2, 0, 0, 2],\n",
    "[2, 2, 0, 0, 2, 0, 2, 0, 0, 0, 0, 0, 2, 0, 0, 2, 0, 0, 0, 0, 2, 0, 0, 2],\n",
    "[2, 2, 0, 2, 0, 2, 0, 0, 0, 0, 0, 2, 2, 0, 0, 0, 2, 0, 0, 0, 0, 0, 0, 2],\n",
    "[3, 1, 1, -1, -1, 1, 1, -1, 1, 1, 1, 1, 1, 1, 1, 1, 1, -1, -1, 1, 1, -1, -1, 1],\n",
    "[3, 1, 1, 1, -1, -1, -1, 1, 1, -1, 1, 1, 1, 1, -1, 1, -1, 1, 1, 1, 1, 1, 1, -1],\n",
    "[2, 2, 0, 2, 0, 0, 2, 0, 0, 2, 0, 0, 0, 2, 0, 0, 0, 0, 0, 2, 0, 0, 0, 2],\n",
    "[1, 3, 1, 1, -1, -1, -1, 1, 1, 1, 1, -1, 1, -1, 1, 1, 1, -1, 1, 1, 1, 1, 1, -1],\n",
    "[2, 2, 2, 0, 2, 0, 0, 0, 0, 0, 2, 0, 0, 2, 0, 0, 2, 0, 0, 0, 0, 0, 0, 2],\n",
    "[2, 0, 2, 0, 0, 0, 0, 0, 0, 0, 0, 0, 2, 0, 2, 0, 0, 0, 2, 2, 0, 2, 2, 0],\n",
    "[3, 1, 1, 1, -1, -1, 1, -1, 1, 1, 1, -1, 1, -1, 1, 1, -1, 1, 1, 1, 1, 1, -1, 1],\n",
    "[3, 1, 1, -1, 1, 1, -1, -1, 1, 1, 1, 1, 1, -1, 1, -1, 1, 1, 1, 1, -1, 1, -1, 1],\n",
    "[1, 3, 1, -1, 1, -1, 1, -1, 1, -1, 1, -1, 1, -1, 1, -1, 1, 1, 1, 1, 1, 1, 1, 1],\n",
    "[2, 2, 0, 2, 0, 0, 0, 2, 0, 2, 0, 0, 2, 0, 0, 0, 0, 2, 0, 0, 2, 0, 0, 0],\n",
    "[1, 3, 1, -1, -1, 1, -1, 1, -1, 1, -1, 1, 1, -1, 1, -1, 1, 1, 1, 1, 1, 1, 1, 1],\n",
    "[2, 2, 2, 0, 2, 0, 0, 0, 0, 2, 0, 0, 0, 0, 2, 0, 0, 0, 0, 2, 2, 0, 0, 0],\n",
    "[3, 1, 1, 1, -1, 1, -1, -1, 1, 1, 1, -1, 1, 1, -1, 1, 1, -1, 1, 1, -1, 1, 1, 1],\n",
    "[0, 2, 2, 0, 0, 0, 0, 0, 2, 2, 0, 0, 0, 2, 0, 2, 2, 0, 0, 2, 0, 0, 0, 0],\n",
    "[1, 3, 1, 1, -1, -1, 1, -1, 1, 1, 1, -1, -1, 1, 1, 1, 1, 1, 1, -1, -1, 1, 1, 1],\n",
    "[1, 3, 1, 1, 1, -1, -1, -1, -1, 1, 1, 1, 1, -1, 1, 1, 1, 1, 1, -1, 1, 1, -1, 1],\n",
    "[2, 2, 0, 2, 0, 0, 2, 0, 0, 0, 2, 0, 0, 0, 2, 0, 2, 0, 0, 0, 2, 0, 0, 0],\n",
    "[2, 2, 0, 2, 0, 2, 0, 0, 0, 0, 2, 0, 0, 2, 0, 0, 0, 2, 0, 0, 0, 0, 2, 0],\n",
    "[2, 2, 0, 0, 2, 0, 0, 2, 0, 0, 0, 0, 0, 2, 0, 2, 0, 2, 0, 2, 0, 0, 0, 0],\n",
    "[3, 1, 1, 1, 1, -1, -1, -1, -1, 1, 1, 1, -1, 1, 1, 1, -1, 1, 1, 1, -1, 1, 1, 1],\n",
    "[2, 2, 0, 0, 0, 0, 0, 0, 0, 0, 0, 0, 2, 2, 0, 0, 0, 2, 2, 0, 0, 2, 0, 2],\n",
    "[1, 3, 1, 1, -1, -1, -1, 1, 1, 1, -1, 1, -1, 1, 1, 1, -1, 1, 1, 1, 1, 1, -1, 1],\n",
    "[0, 2, 2, 0, 0, 0, 0, 0, 0, 2, 2, 0, 0, 0, 0, 0, 0, 0, 2, 2, 0, 2, 0, 2],\n",
    "[1, 3, 1, -1, 1, 1, -1, -1, 1, 1, 1, 1, -1, 1, 1, -1, -1, 1, 1, -1, 1, 1, 1, 1],\n",
    "[3, 1, 1, -1, 1, -1, -1, 1, 1, -1, -1, 1, -1, 1, 1, -1, 1, 1, 1, 1, 1, 1, 1, 1],\n",
    "[2, 2, 2, 0, 0, 0, 2, 0, 2, 0, 0, 0, 0, 2, 0, 0, 0, 2, 0, 0, 2, 0, 0, 0],\n",
    "[3, 1, 1, -1, -1, 1, 1, -1, -1, 1, 1, -1, -1, 1, 1, -1, 1, 1, 1, 1, 1, 1, 1, 1],\n",
    "[2, 2, 2, 0, 0, 2, 0, 0, 2, 0, 0, 0, 0, 0, 2, 0, 2, 0, 0, 0, 0, 0, 2, 0],\n",
    "[3, 1, 1, -1, 1, -1, 1, -1, 1, 1, 1, 1, 1, 1, -1, -1, -1, -1, 1, 1, 1, 1, 1, 1],\n",
    "[2, 0, 2, 0, 0, 0, 0, 0, 2, 2, 0, 0, 2, 0, 0, 2, 0, 0, 0, 0, 2, 0, 2, 0],\n",
    "[2, 2, 2, 2, 0, 0, 0, 0, 0, 0, 0, 0, 2, 2, 2, 2, 0, 0, 0, 0, 0, 0, 0, 0],\n",
    "[2, 2, 0, 0, 2, 2, 0, 0, 0, 0, 2, 2, 0, 0, 2, 2, 0, 0, 0, 0, 0, 0, 0, 0],\n",
    "[2, 2, 0, 0, 0, 0, 2, 2, 2, 2, 0, 0, 0, 0, 2, 2, 0, 0, 0, 0, 0, 0, 0, 0],\n",
    "[2, 2, 0, 0, 0, 0, 0, 0, 2, 0, 2, 0, 2, 0, 0, 2, 2, 2, 0, 0, 0, 0, 0, 0],\n",
    "[3, 1, 1, 1, -1, -1, -1, 1, 1, 1, -1, 1, 1, -1, 1, 1, 1, 1, 1, -1, -1, 1, 1, 1],\n",
    "[3, 1, 1, 1, -1, 1, -1, -1, 1, -1, 1, 1, -1, 1, 1, 1, 1, 1, 1, -1, 1, 1, -1, 1],\n",
    "[1, 3, 1, 1, -1, -1, 1, -1, 1, -1, 1, 1, 1, 1, -1, 1, 1, -1, 1, 1, 1, 1, -1, 1],\n",
    "[2, 2, 0, 2, 0, 0, 0, 2, 0, 0, 0, 2, 0, 0, 2, 0, 0, 0, 0, 2, 0, 0, 2, 0],\n",
    "[1, 3, 1, -1, -1, 1, -1, 1, 1, 1, 1, 1, 1, 1, 1, 1, -1, 1, -1, 1, 1, -1, 1, -1],\n",
    "[2, 2, 2, 0, 2, 0, 0, 0, 0, 0, 0, 2, 2, 0, 0, 0, 0, 2, 0, 0, 0, 0, 2, 0],\n",
    "[1, 3, 1, 1, -1, 1, -1, -1, 1, -1, 1, 1, 1, -1, 1, 1, -1, 1, 1, 1, -1, 1, 1, 1],\n",
    "[2, 0, 2, 0, 0, 0, 0, 0, 2, 0, 0, 2, 0, 0, 2, 2, 0, 2, 0, 2, 0, 0, 0, 0],\n",
    "[2, 2, 0, 0, 0, 0, 0, 0, 2, 0, 0, 2, 0, 2, 0, 2, 0, 0, 0, 0, 0, 0, 2, 2],\n",
    "[2, 0, 2, 0, 0, 0, 0, 0, 0, 2, 0, 2, 0, 0, 0, 0, 0, 2, 2, 0, 2, 2, 0, 0],\n",
    "[2, 2, 0, 0, 0, 0, 2, 2, 0, 0, 0, 0, 0, 0, 0, 0, 0, 0, 2, 2, 2, 2, 0, 0],\n",
    "[1, 3, 1, -1, 1, -1, -1, 1, 1, 1, 1, 1, 1, 1, -1, -1, 1, 1, 1, 1, 1, 1, -1, -1],\n",
    "[0, 2, 2, 0, 0, 0, 0, 0, 0, 0, 0, 0, 0, 2, 2, 0, 2, 0, 2, 0, 2, 2, 0, 0],\n",
    "[2, 2, 0, 0, 0, 0, 0, 0, 0, 2, 2, 0, 2, 0, 2, 0, 0, 0, 0, 0, 0, 0, 2, 2],\n",
    "[1, 3, 1, 1, -1, -1, 1, -1, 1, 1, -1, 1, 1, -1, 1, 1, 1, 1, -1, 1, 1, -1, 1, 1],\n",
    "[0, 2, 2, 0, 0, 0, 0, 0, 0, 0, 0, 0, 0, 2, 2, 0, 0, 2, 0, 2, 0, 0, 2, 2],\n",
    "[2, 2, 2, 0, 0, 2, 0, 0, 0, 2, 0, 0, 0, 0, 0, 2, 0, 2, 0, 0, 0, 0, 0, 2],\n",
    "[2, 2, 0, 0, 0, 0, 2, 2, 0, 0, 0, 0, 0, 0, 0, 0, 2, 2, 0, 0, 0, 0, 2, 2],\n",
    "[3, 1, 1, 1, -1, -1, -1, 1, 1, 1, 1, -1, -1, 1, 1, 1, 1, 1, -1, 1, 1, -1, 1, 1],\n",
    "[2, 0, 2, 0, 0, 0, 0, 0, 0, 2, 0, 2, 0, 0, 0, 0, 2, 0, 0, 2, 0, 0, 2, 2],\n",
    "[3, 1, 1, 1, 1, -1, -1, -1, 1, 1, 1, -1, 1, 1, 1, -1, 1, 1, 1, -1, 1, 1, 1, -1],\n",
    "[3, 1, 1, -1, 1, -1, 1, -1, -1, -1, 1, 1, 1, 1, 1, 1, 1, 1, 1, 1, 1, 1, -1, -1],\n",
    "[3, 1, 1, -1, -1, 1, -1, 1, 1, 1, -1, -1, 1, 1, 1, 1, 1, 1, 1, 1, 1, 1, -1, -1],\n",
    "[1, 3, 1, -1, -1, 1, 1, -1, 1, 1, 1, 1, -1, -1, 1, 1, 1, 1, 1, 1, 1, 1, -1, -1],\n",
    "[2, 2, 0, 2, 0, 2, 0, 0, 0, 2, 0, 0, 0, 0, 2, 0, 0, 0, 2, 0, 0, 2, 0, 0],\n",
    "[1, 3, 1, 1, -1, -1, 1, -1, -1, 1, 1, 1, 1, 1, 1, -1, -1, 1, 1, 1, 1, 1, 1, -1],\n",
    "[2, 2, 0, 0, 0, 2, 2, 0, 0, 0, 0, 0, 2, 0, 2, 0, 0, 2, 0, 2, 0, 0, 0, 0],\n",
    "[1, 1, 1, 1, 1, 1, 1, 1, 1, 1, 1, 1, 1, -3, 1, 1, 1, 1, 1, 1, 1, 1, 1, 1],\n",
    "[0, 2, 2, 0, 0, 0, 0, 0, 0, 0, 2, 2, 2, 0, 2, 0, 2, 0, 0, 2, 0, 0, 0, 0],\n",
    "[1, 1, 1, 1, 1, 1, 1, 1, 1, 1, 1, 1, 1, 1, -3, 1, 1, 1, 1, 1, 1, 1, 1, 1],\n",
    "[1, 3, 1, -1, 1, -1, 1, -1, -1, 1, -1, 1, -1, 1, -1, 1, 1, 1, 1, 1, 1, 1, 1, 1],\n",
    "[1, 3, 1, -1, -1, 1, -1, 1, 1, -1, 1, -1, -1, 1, -1, 1, 1, 1, 1, 1, 1, 1, 1, 1],\n",
    "[3, 1, 1, -1, -1, -1, 1, 1, 1, 1, 1, 1, -1, 1, -1, 1, 1, 1, 1, 1, -1, 1, -1, 1],\n",
    "[1, 1, 1, 1, 1, 1, 1, 1, 1, 1, 1, 1, -3, 1, 1, 1, 1, 1, 1, 1, 1, 1, 1, 1],\n",
    "[1, 1, 1, 1, 1, 1, 1, 1, 1, 1, 1, 1, 1, 1, 1, 1, -3, 1, 1, 1, 1, 1, 1, 1],\n",
    "[2, 0, 2, 0, 0, 0, 0, 0, 0, 2, 2, 0, 2, 2, 0, 0, 0, 2, 0, 2, 0, 0, 0, 0],\n",
    "[1, 1, 1, 1, 1, 1, 1, 1, 1, 1, 1, 1, 1, 1, 1, 1, 1, -3, 1, 1, 1, 1, 1, 1],\n",
    "[2, 2, 2, 0, 0, 0, 0, 2, 0, 0, 0, 2, 0, 0, 0, 2, 2, 0, 0, 0, 2, 0, 0, 0],\n",
    "[3, 1, 1, -1, 1, 1, -1, -1, -1, 1, -1, 1, 1, 1, 1, 1, 1, -1, 1, -1, 1, 1, 1, 1],\n",
    "[3, 1, 1, -1, -1, -1, 1, 1, 1, -1, 1, -1, 1, 1, 1, 1, 1, -1, 1, -1, 1, 1, 1, 1],\n",
    "[1, 3, 1, -1, -1, 1, -1, 1, 1, 1, 1, 1, 1, 1, 1, 1, 1, -1, 1, -1, -1, 1, -1, 1],\n",
    "[1, 1, 1, 1, 1, 1, 1, 1, 1, 1, 1, 1, 1, 1, 1, 1, 1, 1, 1, -3, 1, 1, 1, 1],\n",
    "[1, 1, 1, 1, 1, 1, 1, 1, 1, 1, -3, 1, 1, 1, 1, 1, 1, 1, 1, 1, 1, 1, 1, 1],\n",
    "[1, 1, 1, 1, 1, 1, 1, 1, 1, -3, 1, 1, 1, 1, 1, 1, 1, 1, 1, 1, 1, 1, 1, 1],\n",
    "[1, 1, 1, 1, 1, 1, 1, 1, 1, 1, 1, -3, 1, 1, 1, 1, 1, 1, 1, 1, 1, 1, 1, 1],\n",
    "[1, 1, 1, 1, 1, 1, -3, 1, 1, 1, 1, 1, 1, 1, 1, 1, 1, 1, 1, 1, 1, 1, 1, 1],\n",
    "[1, 1, 1, 1, 1, -3, 1, 1, 1, 1, 1, 1, 1, 1, 1, 1, 1, 1, 1, 1, 1, 1, 1, 1],\n",
    "[1, 1, 1, 1, 1, 1, 1, -3, 1, 1, 1, 1, 1, 1, 1, 1, 1, 1, 1, 1, 1, 1, 1, 1],\n",
    "[1, 1, 1, 1, 1, 1, 1, 1, -3, 1, 1, 1, 1, 1, 1, 1, 1, 1, 1, 1, 1, 1, 1, 1],\n",
    "[1, 1, 1, 1, -3, 1, 1, 1, 1, 1, 1, 1, 1, 1, 1, 1, 1, 1, 1, 1, 1, 1, 1, 1],\n",
    "[1, 1, 1, -3, 1, 1, 1, 1, 1, 1, 1, 1, 1, 1, 1, 1, 1, 1, 1, 1, 1, 1, 1, 1],\n",
    "[1, 3, 1, -1, -1, -1, 1, 1, 1, 1, 1, 1, 1, -1, -1, 1, -1, 1, 1, -1, 1, 1, 1, 1],\n",
    "[3, 1, 1, -1, -1, 1, 1, -1, 1, -1, -1, 1, 1, -1, -1, 1, 1, 1, 1, 1, 1, 1, 1, 1],\n",
    "[3, 1, 1, -1, 1, -1, -1, 1, -1, 1, 1, -1, 1, -1, -1, 1, 1, 1, 1, 1, 1, 1, 1, 1],\n",
    "[3, 1, 1, -1, -1, 1, -1, 1, 1, 1, 1, 1, -1, -1, 1, 1, -1, -1, 1, 1, 1, 1, 1, 1],\n",
    "[1, 3, 1, -1, -1, 1, 1, -1, 1, 1, -1, -1, 1, 1, 1, 1, -1, -1, 1, 1, 1, 1, 1, 1],\n",
    "[1, 3, 1, -1, 1, -1, -1, 1, -1, -1, 1, 1, 1, 1, 1, 1, -1, -1, 1, 1, 1, 1, 1, 1],\n",
    "[2, 2, 0, 2, 0, 2, 0, 0, 2, 0, 0, 0, 0, 0, 0, 2, 0, 0, 0, 2, 2, 0, 0, 0],\n",
    "[2, 2, 0, 0, 0, 0, 0, 0, 0, 2, 0, 2, 0, 2, 2, 0, 2, 2, 0, 0, 0, 0, 0, 0],\n",
    "[0, 2, 2, 0, 0, 0, 0, 0, 0, 2, 2, 0, 0, 0, 0, 0, 2, 2, 0, 0, 2, 0, 2, 0],\n",
    "[2, 0, 2, 0, 0, 0, 0, 0, 0, 0, 2, 2, 0, 2, 2, 0, 0, 0, 0, 0, 2, 0, 2, 0],\n",
    "[2, 2, 0, 0, 0, 0, 0, 0, 0, 0, 0, 0, 2, 2, 0, 0, 2, 0, 0, 2, 2, 0, 2, 0],\n",
    "[2, 2, 0, 0, 0, 2, 2, 0, 0, 2, 0, 2, 0, 0, 0, 0, 0, 0, 0, 0, 2, 0, 2, 0],\n",
    "[2, 2, 0, 0, 2, 0, 0, 2, 2, 0, 2, 0, 0, 0, 0, 0, 0, 0, 0, 0, 2, 0, 2, 0],\n",
    "[2, 2, 0, 0, 0, 2, 0, 2, 0, 2, 2, 0, 0, 0, 0, 0, 2, 0, 0, 2, 0, 0, 0, 0],\n",
    "[2, 2, 0, 0, 2, 0, 2, 0, 2, 0, 0, 2, 0, 0, 0, 0, 2, 0, 0, 2, 0, 0, 0, 0],\n",
    "[2, 2, 0, 0, 0, 0, 2, 2, 0, 0, 2, 2, 2, 2, 0, 0, 0, 0, 0, 0, 0, 0, 0, 0],\n",
    "[2, 2, 0, 0, 2, 2, 0, 0, 2, 2, 0, 0, 2, 2, 0, 0, 0, 0, 0, 0, 0, 0, 0, 0],\n",
    "[1, 3, 1, 1, 1, -1, -1, -1, 1, 1, -1, 1, 1, 1, 1, -1, 1, -1, 1, 1, -1, 1, 1, 1],\n",
    "[2, 2, 2, 2, 0, 0, 0, 0, 2, 2, 2, 2, 0, 0, 0, 0, 0, 0, 0, 0, 0, 0, 0, 0],\n",
    "[4, 4, 0, 0, 0, 0, 0, 0, 0, 0, 0, 0, 0, 0, 0, 0, 0, 0, 0, 0, 0, 0, 0, 0]];"
   ]
  },
  {
   "cell_type": "code",
   "execution_count": 14,
   "metadata": {},
   "outputs": [
    {
     "name": "stdout",
     "output_type": "stream",
     "text": [
      "210\n",
      "210\n"
     ]
    }
   ],
   "source": [
    "# SANITY CHECK\n",
    "#\n",
    "# Checking that L contains 210 distinct entries\n",
    "#\n",
    "print(len(L));\n",
    "print(len(set([tuple(v) for v in L])));"
   ]
  },
  {
   "cell_type": "code",
   "execution_count": 15,
   "metadata": {},
   "outputs": [],
   "source": [
    "#\n",
    "# Elements of the Leech lattice giving rise to the required D_4 system of Leech roots\n",
    "#\n",
    "X = [5]+[1]*23;\n",
    "Y = [1,5]+[1]*22;\n",
    "Z = [0]*24;\n",
    "T = [3]*3+[-1]*5+[1]*16;"
   ]
  },
  {
   "cell_type": "code",
   "execution_count": 16,
   "metadata": {},
   "outputs": [],
   "source": [
    "#\n",
    "# Producing Leech root from a Leech lattice element\n",
    "#\n",
    "def root(v):\n",
    "    return vector(QQ, list(v)+[1]+[-1+v*v/16]);"
   ]
  },
  {
   "cell_type": "code",
   "execution_count": 17,
   "metadata": {},
   "outputs": [],
   "source": [
    "#\n",
    "# Bilinear form on R^{25,1}\n",
    "#\n",
    "def bL(u,v):\n",
    "    return 1/8*u[:24]*v[:24]-u[24]*v[25]-u[25]*v[24];"
   ]
  },
  {
   "cell_type": "code",
   "execution_count": 18,
   "metadata": {},
   "outputs": [],
   "source": [
    "#\n",
    "# Associated quadratic form\n",
    "#\n",
    "def fL(v):\n",
    "    return bL(v,v);"
   ]
  },
  {
   "cell_type": "code",
   "execution_count": 19,
   "metadata": {},
   "outputs": [
    {
     "data": {
      "image/png": "[encoded data removed]",
      "text/plain": [
       "Graphics object consisting of 11 graphics primitives"
      ]
     },
     "metadata": {},
     "output_type": "display_data"
    }
   ],
   "source": [
    "#\n",
    "# D_4 diagram\n",
    "#\n",
    "D4 = Graph([(2,0,1/4),(2,1,1/4),(2,3,1/4)]);\n",
    "D4.plot(edge_labels=True).show();"
   ]
  },
  {
   "cell_type": "code",
   "execution_count": 20,
   "metadata": {},
   "outputs": [
    {
     "data": {
      "image/png": "[encoded data removed]",
      "text/plain": [
       "Graphics object consisting of 14 graphics primitives"
      ]
     },
     "metadata": {},
     "output_type": "display_data"
    }
   ],
   "source": [
    "#\n",
    "# D_5 diagram\n",
    "#\n",
    "D5 = Graph([(2,0,1/4),(2,1,1/4),(2,3,1/4),(3,4,1/4)]);\n",
    "D5.plot(edge_labels=True).show();"
   ]
  },
  {
   "cell_type": "code",
   "execution_count": 21,
   "metadata": {},
   "outputs": [],
   "source": [
    "#\n",
    "# Detecting D_4 root system\n",
    "#\n",
    "def is_D4(aa, bb, cc, dd):\n",
    "    return diagram([aa, bb, cc, dd]).is_isomorphic(D4, edge_labels=True);\n",
    "#\n",
    "# Counting D_4 \\times A_1 systems composed by a, b, c, d and a root from roots\n",
    "#\n",
    "def count_D4_x_A1(roots, aa, bb, cc, dd):\n",
    "    count1 = 0;\n",
    "    for r in roots:\n",
    "        if bL(aa,r)==0 and bL(bb,r)==0 and bL(cc,r)==0 and bL(dd,r)==0:\n",
    "            count1 += 1;\n",
    "    return count1;\n",
    "#\n",
    "# Counting D_5 systems composed by a, b, c, d and a root from roots\n",
    "#\n",
    "def count_D5(roots, aa, bb, cc, dd):\n",
    "    count2 = 0;\n",
    "    for r in roots:\n",
    "        if diagram([aa, bb, cc, dd, r]).is_isomorphic(D5, edge_labels=True):\n",
    "            count2 += 1;\n",
    "    return count2;"
   ]
  },
  {
   "cell_type": "code",
   "execution_count": 22,
   "metadata": {},
   "outputs": [
    {
     "name": "stdout",
     "output_type": "stream",
     "text": [
      "True\n"
     ]
    }
   ],
   "source": [
    "#\n",
    "# Creating Leech roots from Leech lattice elements\n",
    "#\n",
    "rootsL = [root(vector(v)) for v in L];\n",
    "#\n",
    "# Defining the roots for a D_4 system\n",
    "#\n",
    "[x,y,z,t] = [root(vector(v)) for v in [X,Y,Z,T]];\n",
    "#\n",
    "# Checking the D_4 system\n",
    "#\n",
    "print(is_D4(x,y,z,t));"
   ]
  },
  {
   "cell_type": "code",
   "execution_count": 23,
   "metadata": {},
   "outputs": [
    {
     "name": "stdout",
     "output_type": "stream",
     "text": [
      "42\n",
      "168\n"
     ]
    }
   ],
   "source": [
    "# SANITY CHECK \n",
    "#\n",
    "# Counting the number of Leech roots r such that {x,y,z,t,r} is a D_4 \\times A_1 system\n",
    "#\n",
    "print(count_D4_x_A1(rootsL,x,y,z,t));\n",
    "#\n",
    "# Counting the number of Leech roots r such that {x,y,z,t,r} is a D_5 system\n",
    "#\n",
    "print(count_D5(rootsL,x,y,z,t));"
   ]
  },
  {
   "cell_type": "code",
   "execution_count": 24,
   "metadata": {},
   "outputs": [],
   "source": [
    "#\n",
    "# The Gram-Schmidt orthogonalisation process for a non-empty set W\n",
    "#\n",
    "def GS(W):\n",
    "    ortW = [W[0]];\n",
    "    for k in range(1,len(W)):\n",
    "        ww = sum([bL(vv,W[k])/fL(vv)*vv for vv in ortW]);\n",
    "        ortW += [W[k]-ww];\n",
    "    return ortW;"
   ]
  },
  {
   "cell_type": "code",
   "execution_count": 25,
   "metadata": {},
   "outputs": [],
   "source": [
    "#\n",
    "# Projecting vector w onto __orthogonal__complement__ of W\n",
    "#\n",
    "def proj(w, W): \n",
    "    ww = sum([bL(vv,w)/fL(vv)*vv for vv in W]);\n",
    "    return w - ww;"
   ]
  },
  {
   "cell_type": "code",
   "execution_count": 26,
   "metadata": {},
   "outputs": [],
   "source": [
    "#\n",
    "# Projecting Leech roots in rootsL onto the orthogonal complement of <x,y,z,t>\n",
    "# these are the outer normals of the Borcherds polyhedron P_21\n",
    "#\n",
    "roots = [proj(v, GS([x,y,z,t])) for v in rootsL];"
   ]
  },
  {
   "cell_type": "code",
   "execution_count": 27,
   "metadata": {},
   "outputs": [
    {
     "name": "stdout",
     "output_type": "stream",
     "text": [
      "42\n",
      "168\n"
     ]
    }
   ],
   "source": [
    "# SANITY CHECK\n",
    "#\n",
    "# We have 42 Leech roots in the orthogonal complement W^\\perp of W = <x,y,z,t>\n",
    "# they project onto W^\\perp identically, all with length 2\n",
    "#\n",
    "print([fL(v) for v in roots].count(2));\n",
    "#\n",
    "# and 168 Leech roots that project onto W^\\perp with length 1\n",
    "#\n",
    "print([fL(v) for v in roots].count(1));"
   ]
  },
  {
   "cell_type": "code",
   "execution_count": 28,
   "metadata": {},
   "outputs": [
    {
     "name": "stdout",
     "output_type": "stream",
     "text": [
      "210\n",
      "16149\n",
      "241920\n",
      "PSL(3,4) : D6\n"
     ]
    }
   ],
   "source": [
    "#\n",
    "# Creating the diagram of the Borcherds polyhedron and its automorphism group \n",
    "# (i.e. the symmetry group of the polyhedron)\n",
    "# \n",
    "diag = diagram(roots);\n",
    "aut = diag.automorphism_group(edge_labels=True);\n",
    "#\n",
    "# Number of diagram's vertices = number of facets of P_21\n",
    "#\n",
    "print(diag.order());\n",
    "#\n",
    "# Number of diagram's edges\n",
    "#\n",
    "print(diag.size());\n",
    "#\n",
    "# Order of the automorphism group\n",
    "#\n",
    "print(aut.order());\n",
    "#\n",
    "# and its structure description from GAP\n",
    "#\n",
    "print(aut.structure_description());"
   ]
  },
  {
   "cell_type": "code",
   "execution_count": 29,
   "metadata": {},
   "outputs": [],
   "source": [
    "# ----------------------------------------------------- #\n",
    "# ------- COMPUTING THE LOWER-DIMENSIONAL FACES ------- #\n",
    "# ----------------------------------------------------- #"
   ]
  },
  {
   "cell_type": "code",
   "execution_count": 30,
   "metadata": {},
   "outputs": [
    {
     "name": "stdout",
     "output_type": "stream",
     "text": [
      "Codimension 0 Coxeter faces.\n",
      "Face 0 is Coxeter, however, bad\n",
      "Codimension 1 Coxeter faces.\n",
      "Codimension 2 Coxeter faces.\n",
      "Face 4 is Coxeter, however, bad\n",
      "Face 5 is Coxeter and has a good facet\n",
      "Codimension 3 Coxeter faces.\n",
      "Face 15 is Coxeter and has an orthogonal facet\n",
      "Face 18 is Coxeter and has an orthogonal facet\n",
      "Codimension 4 Coxeter faces.\n",
      "Face 42 is Coxeter, however, bad\n",
      "Face 78 is Coxeter, however, bad\n",
      "Face 191 is Coxeter, however, bad\n",
      "Codimension 5 Coxeter faces.\n",
      "Face 741 is Coxeter, however, bad\n",
      "Codimension 6 Coxeter faces.\n",
      "Face 1624 is Coxeter, however, bad\n",
      "Face 2680 is Coxeter, however, bad\n",
      "Face 4869 is Coxeter and has a good facet\n",
      "Face 6093 is Coxeter, however, bad\n"
     ]
    }
   ],
   "source": [
    "#\n",
    "# Creating the root of the facet tree\n",
    "#\n",
    "P = (roots, diag, aut);\n",
    "#\n",
    "# Creating the facet tree\n",
    "#\n",
    "T = Graph();\n",
    "T.add_vertex(0);\n",
    "T.set_vertex(0, P);\n",
    "#\n",
    "# Augmenting (and pruning) the facet tree\n",
    "#\n",
    "facet_info(T);\n",
    "for codim in range(6):    \n",
    "    augment_facet_tree(T);\n",
    "    prune_facet_tree(T);\n",
    "    facet_info(T);"
   ]
  },
  {
   "cell_type": "code",
   "execution_count": 31,
   "metadata": {},
   "outputs": [],
   "source": [
    "#\n",
    "# Faces that have a \"good\" or orthogonal facet according to the search above\n",
    "#\n",
    "good_faces = [5, 15, 18, 4869]"
   ]
  },
  {
   "cell_type": "code",
   "execution_count": 32,
   "metadata": {},
   "outputs": [],
   "source": [
    "#\n",
    "# Veryfying arithmeticity of faces in the facet tree\n",
    "#\n",
    "# IMPORTANT: here we assume that the initial polyhedron is an acute-angled quasi-arithmetic polyhedron, and \n",
    "# thus conditions (V1)--(V2) from Vinberg's criterion are __not__ verified. Only (V3) is checked \n",
    "#\n",
    "#\n",
    "# MOREOVER: here we essentially use the fact that it is __enough__ to check a cycle basis. Indeed, \n",
    "# we assume that 4*(edge label)^2 is an integer for each edge, and thus our only problem could \n",
    "# be a quadratic irrationality. Checking a Z_2 cycle basis will be sufficient in this case.\n",
    "#\n",
    "def is_Arithmetic(diag, verbose=False): \n",
    "    if diag.size() > 1000: # this search takes too long for large diagrams, so large diagrams are not checked \n",
    "        if verbose:\n",
    "            print(\"Face given below is not checked because its diagram is too large\");\n",
    "        return None;     # None is returned if the number of edges is > 1000, as an indicator of no check done\n",
    "    flag = all([(4*e[2] in QQ.ring_of_integers()) for e in diag.edges()]);\n",
    "    if not(flag) and verbose:\n",
    "        print(\"Our simplified approach does not apply in this case!\");\n",
    "        return None;\n",
    "    cyc = diag.cycle_basis(output='edge');\n",
    "    for c in cyc:\n",
    "        cprod = prod([4*e[2] for e in c]);\n",
    "        cprod = QQ(sqrt(cprod));\n",
    "        if not(cprod in QQ.ring_of_integers()):\n",
    "            if verbose:\n",
    "                print(\"Face given below is not arithmetic because of (cycle, cyclic product): \", c, cprod);\n",
    "            return False;\n",
    "    return True;"
   ]
  },
  {
   "cell_type": "code",
   "execution_count": 33,
   "metadata": {},
   "outputs": [
    {
     "name": "stdout",
     "output_type": "stream",
     "text": [
      "Is face 5 arithmetic? True\n",
      "Is face 15 arithmetic? True\n",
      "Is face 18 arithmetic? True\n",
      "Is face 4869 arithmetic? True\n"
     ]
    }
   ],
   "source": [
    "#\n",
    "# Checking is the \"good\" faces found previously are indeed arithmetic\n",
    "#\n",
    "for i in good_faces:\n",
    "    diagram = T.get_vertex(i)[1]\n",
    "    flag = is_Arithmetic(diagram)\n",
    "    print(\"Is face {} arithmetic? {}\".format(i, flag))"
   ]
  },
  {
   "cell_type": "code",
   "execution_count": 34,
   "metadata": {},
   "outputs": [],
   "source": [
    "# ----------------------------------------------------- #\n",
    "# ------------------------ END ------------------------ #\n",
    "# ----------------------------------------------------- #"
   ]
  }
 ],
 "metadata": {
  "kernelspec": {
   "display_name": "SageMath 9.5",
   "language": "sage",
   "name": "sagemath-9.5"
  },
  "language_info": {
   "codemirror_mode": {
    "name": "ipython",
    "version": 3
   },
   "file_extension": ".py",
   "mimetype": "text/x-python",
   "name": "python",
   "nbconvert_exporter": "python",
   "pygments_lexer": "ipython3",
   "version": "3.9.9"
  }
 },
 "nbformat": 4,
 "nbformat_minor": 2
}
